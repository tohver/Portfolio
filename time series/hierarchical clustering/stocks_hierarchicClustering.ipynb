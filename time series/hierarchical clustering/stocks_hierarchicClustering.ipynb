{
 "cells": [
  {
   "cell_type": "markdown",
   "metadata": {
    "toc": true
   },
   "source": [
    "<h1>Table of Contents<span class=\"tocSkip\"></span></h1>\n",
    "<div class=\"toc\"><ul class=\"toc-item\"><li><span><a href=\"#Cointegration,-heatmap\" data-toc-modified-id=\"Cointegration,-heatmap-1\"><span class=\"toc-item-num\">1&nbsp;&nbsp;</span>Cointegration, heatmap</a></span></li></ul></div>"
   ]
  },
  {
   "cell_type": "markdown",
   "metadata": {},
   "source": [
    "- timezone: EST (currently: -6)  \n",
    "New York Stock Exchange (NYSE) and the Nasdaq Stock Market (Nasdaq), are 9:30 a.m. to 4 p.m."
   ]
  },
  {
   "cell_type": "code",
   "execution_count": 3,
   "metadata": {},
   "outputs": [
    {
     "name": "stdout",
     "output_type": "stream",
     "text": [
      "(35674, 80)\n"
     ]
    }
   ],
   "source": [
    "# distance matrix\n",
    "# correlation distance\n",
    "import pandas as pd\n",
    "from pathlib import Path\n",
    "path = Path(r'd:/data/stock_data/Helden')\n",
    "heldenStocks = ['SPY','AAL', 'AAPL', 'ADI', 'ADSK', 'AMGN', 'AMZN', 'BIDU', 'BKNG', 'BMRN', 'CERN', 'CHTR', 'COST', 'CSCO', 'CSX', 'CTAS', 'CTXS', 'DISH', 'EA', 'EBAY', 'EXPE', 'FB', 'FOX', 'GOOGL', 'HAS', 'HOLX', 'INTC', 'INTU', 'JBHT', 'JD', 'LRCX', 'MCHP', 'MNST', 'MSFT', 'MU', 'NFLX', 'NTES', 'NVDA', 'ORLY', 'PCAR', 'PYPL', 'QCOM', 'SBUX', 'SIRI', 'STX', 'TMUS', 'TSLA', 'TXN', 'ULTA', 'VOD', 'VRSK', 'VRTX', 'WBA', 'WDC', 'BABA', \"GME\", 'AXP','BA','CAT','CVX','DIS','GE','GS','HD','IBM','JNJ','JPM','KO','MCD','MRK','NKE','PTE','PG','TRV','UNH','V','VZ','WMT','XOM']\n",
    "\n",
    "for i in range(len(heldenStocks)):\n",
    "\n",
    "    ticker = heldenStocks[i]\n",
    "\n",
    "    df1 = pd.read_csv(path / f'{ticker}-1-1.csv')[['time','close']]\n",
    "    df2 = pd.read_csv(path /f'{ticker}-1-2.csv')[['time','close']]\n",
    "\n",
    "    locals()[ticker] = pd.concat([df1,df2]) #.set_index('time')\n",
    "    locals()[ticker].columns = ['time',ticker]\n",
    "\n",
    "    if i>0:\n",
    "        stockData = pd.merge(stockData, locals()[ticker], on = 'time', how = 'outer')\n",
    "    else:\n",
    "        stockData = locals()[ticker]\n",
    "    del locals()[ticker]\n",
    "\n",
    "\n",
    "print(stockData.shape)  \n"
   ]
  },
  {
   "cell_type": "code",
   "execution_count": 7,
   "metadata": {},
   "outputs": [],
   "source": [
    "stockData['time'] = pd.to_datetime(stockData['time'])\n",
    "\n",
    "stocks = stockData.set_index('time')\n",
    "stocks = stocks.between_time('9:30', '16:00')\n",
    "stocks.to_csv('StocksSelectedHours.csv')"
   ]
  },
  {
   "cell_type": "code",
   "execution_count": 3,
   "metadata": {},
   "outputs": [],
   "source": [
    "# stockData['Date'] = pd.to_datetime(stockData['time']).dt.date\n",
    "# stockData['Time'] = pd.to_datetime(stockData['time']).dt.time"
   ]
  },
  {
   "cell_type": "code",
   "execution_count": 8,
   "metadata": {},
   "outputs": [],
   "source": [
    "corr_distance_matrix = stocks.corr()"
   ]
  },
  {
   "cell_type": "code",
   "execution_count": 9,
   "metadata": {},
   "outputs": [
    {
     "data": {
      "text/html": [
       "<div>\n",
       "<style scoped>\n",
       "    .dataframe tbody tr th:only-of-type {\n",
       "        vertical-align: middle;\n",
       "    }\n",
       "\n",
       "    .dataframe tbody tr th {\n",
       "        vertical-align: top;\n",
       "    }\n",
       "\n",
       "    .dataframe thead th {\n",
       "        text-align: right;\n",
       "    }\n",
       "</style>\n",
       "<table border=\"1\" class=\"dataframe\">\n",
       "  <thead>\n",
       "    <tr style=\"text-align: right;\">\n",
       "      <th></th>\n",
       "      <th>SPY</th>\n",
       "      <th>AAL</th>\n",
       "      <th>AAPL</th>\n",
       "      <th>ADI</th>\n",
       "      <th>ADSK</th>\n",
       "      <th>AMGN</th>\n",
       "      <th>AMZN</th>\n",
       "      <th>BIDU</th>\n",
       "      <th>BKNG</th>\n",
       "      <th>BMRN</th>\n",
       "      <th>...</th>\n",
       "      <th>MRK</th>\n",
       "      <th>NKE</th>\n",
       "      <th>PTE</th>\n",
       "      <th>PG</th>\n",
       "      <th>TRV</th>\n",
       "      <th>UNH</th>\n",
       "      <th>V</th>\n",
       "      <th>VZ</th>\n",
       "      <th>WMT</th>\n",
       "      <th>XOM</th>\n",
       "    </tr>\n",
       "  </thead>\n",
       "  <tbody>\n",
       "    <tr>\n",
       "      <th>SPY</th>\n",
       "      <td>1.000000</td>\n",
       "      <td>-0.150766</td>\n",
       "      <td>0.664561</td>\n",
       "      <td>0.943056</td>\n",
       "      <td>0.795816</td>\n",
       "      <td>0.871081</td>\n",
       "      <td>0.214384</td>\n",
       "      <td>0.858366</td>\n",
       "      <td>0.593429</td>\n",
       "      <td>0.373156</td>\n",
       "      <td>...</td>\n",
       "      <td>0.465277</td>\n",
       "      <td>0.672939</td>\n",
       "      <td>0.821549</td>\n",
       "      <td>-0.439500</td>\n",
       "      <td>0.866207</td>\n",
       "      <td>0.782713</td>\n",
       "      <td>-0.138938</td>\n",
       "      <td>-0.812249</td>\n",
       "      <td>-0.304643</td>\n",
       "      <td>0.861880</td>\n",
       "    </tr>\n",
       "    <tr>\n",
       "      <th>AAL</th>\n",
       "      <td>-0.150766</td>\n",
       "      <td>1.000000</td>\n",
       "      <td>-0.165660</td>\n",
       "      <td>-0.216983</td>\n",
       "      <td>-0.275806</td>\n",
       "      <td>-0.047168</td>\n",
       "      <td>-0.184216</td>\n",
       "      <td>-0.242341</td>\n",
       "      <td>-0.225712</td>\n",
       "      <td>-0.184748</td>\n",
       "      <td>...</td>\n",
       "      <td>0.126493</td>\n",
       "      <td>-0.164352</td>\n",
       "      <td>-0.314749</td>\n",
       "      <td>-0.145620</td>\n",
       "      <td>-0.026496</td>\n",
       "      <td>-0.293242</td>\n",
       "      <td>-0.144763</td>\n",
       "      <td>0.389176</td>\n",
       "      <td>-0.234919</td>\n",
       "      <td>0.049293</td>\n",
       "    </tr>\n",
       "    <tr>\n",
       "      <th>AAPL</th>\n",
       "      <td>0.664561</td>\n",
       "      <td>-0.165660</td>\n",
       "      <td>1.000000</td>\n",
       "      <td>0.543582</td>\n",
       "      <td>0.690485</td>\n",
       "      <td>0.406495</td>\n",
       "      <td>0.617957</td>\n",
       "      <td>0.742434</td>\n",
       "      <td>0.442807</td>\n",
       "      <td>0.712365</td>\n",
       "      <td>...</td>\n",
       "      <td>-0.084208</td>\n",
       "      <td>0.664746</td>\n",
       "      <td>0.341116</td>\n",
       "      <td>-0.211028</td>\n",
       "      <td>0.711895</td>\n",
       "      <td>0.367680</td>\n",
       "      <td>0.114850</td>\n",
       "      <td>-0.700476</td>\n",
       "      <td>-0.675472</td>\n",
       "      <td>0.410360</td>\n",
       "    </tr>\n",
       "    <tr>\n",
       "      <th>ADI</th>\n",
       "      <td>0.943056</td>\n",
       "      <td>-0.216983</td>\n",
       "      <td>0.543582</td>\n",
       "      <td>1.000000</td>\n",
       "      <td>0.852531</td>\n",
       "      <td>0.852624</td>\n",
       "      <td>-0.026472</td>\n",
       "      <td>0.884722</td>\n",
       "      <td>0.589331</td>\n",
       "      <td>0.274457</td>\n",
       "      <td>...</td>\n",
       "      <td>0.506576</td>\n",
       "      <td>0.678808</td>\n",
       "      <td>0.905140</td>\n",
       "      <td>-0.420993</td>\n",
       "      <td>0.808986</td>\n",
       "      <td>0.757330</td>\n",
       "      <td>-0.235251</td>\n",
       "      <td>-0.871847</td>\n",
       "      <td>-0.280687</td>\n",
       "      <td>0.912203</td>\n",
       "    </tr>\n",
       "    <tr>\n",
       "      <th>ADSK</th>\n",
       "      <td>0.795816</td>\n",
       "      <td>-0.275806</td>\n",
       "      <td>0.690485</td>\n",
       "      <td>0.852531</td>\n",
       "      <td>1.000000</td>\n",
       "      <td>0.560262</td>\n",
       "      <td>0.071047</td>\n",
       "      <td>0.898308</td>\n",
       "      <td>0.663857</td>\n",
       "      <td>0.579426</td>\n",
       "      <td>...</td>\n",
       "      <td>0.215085</td>\n",
       "      <td>0.876508</td>\n",
       "      <td>0.731012</td>\n",
       "      <td>-0.117197</td>\n",
       "      <td>0.705191</td>\n",
       "      <td>0.575959</td>\n",
       "      <td>-0.033349</td>\n",
       "      <td>-0.894191</td>\n",
       "      <td>-0.509458</td>\n",
       "      <td>0.736180</td>\n",
       "    </tr>\n",
       "    <tr>\n",
       "      <th>...</th>\n",
       "      <td>...</td>\n",
       "      <td>...</td>\n",
       "      <td>...</td>\n",
       "      <td>...</td>\n",
       "      <td>...</td>\n",
       "      <td>...</td>\n",
       "      <td>...</td>\n",
       "      <td>...</td>\n",
       "      <td>...</td>\n",
       "      <td>...</td>\n",
       "      <td>...</td>\n",
       "      <td>...</td>\n",
       "      <td>...</td>\n",
       "      <td>...</td>\n",
       "      <td>...</td>\n",
       "      <td>...</td>\n",
       "      <td>...</td>\n",
       "      <td>...</td>\n",
       "      <td>...</td>\n",
       "      <td>...</td>\n",
       "      <td>...</td>\n",
       "    </tr>\n",
       "    <tr>\n",
       "      <th>UNH</th>\n",
       "      <td>0.782713</td>\n",
       "      <td>-0.293242</td>\n",
       "      <td>0.367680</td>\n",
       "      <td>0.757330</td>\n",
       "      <td>0.575959</td>\n",
       "      <td>0.601864</td>\n",
       "      <td>0.007339</td>\n",
       "      <td>0.529196</td>\n",
       "      <td>0.748448</td>\n",
       "      <td>0.065486</td>\n",
       "      <td>...</td>\n",
       "      <td>0.679118</td>\n",
       "      <td>0.546653</td>\n",
       "      <td>0.755046</td>\n",
       "      <td>-0.100624</td>\n",
       "      <td>0.476912</td>\n",
       "      <td>1.000000</td>\n",
       "      <td>0.151297</td>\n",
       "      <td>-0.546806</td>\n",
       "      <td>0.027739</td>\n",
       "      <td>0.573788</td>\n",
       "    </tr>\n",
       "    <tr>\n",
       "      <th>V</th>\n",
       "      <td>-0.138938</td>\n",
       "      <td>-0.144763</td>\n",
       "      <td>0.114850</td>\n",
       "      <td>-0.235251</td>\n",
       "      <td>-0.033349</td>\n",
       "      <td>-0.462216</td>\n",
       "      <td>0.279432</td>\n",
       "      <td>-0.186646</td>\n",
       "      <td>0.472733</td>\n",
       "      <td>0.137586</td>\n",
       "      <td>...</td>\n",
       "      <td>-0.011976</td>\n",
       "      <td>0.132765</td>\n",
       "      <td>-0.292578</td>\n",
       "      <td>0.657898</td>\n",
       "      <td>-0.371792</td>\n",
       "      <td>0.151297</td>\n",
       "      <td>1.000000</td>\n",
       "      <td>0.164903</td>\n",
       "      <td>0.081564</td>\n",
       "      <td>-0.446268</td>\n",
       "    </tr>\n",
       "    <tr>\n",
       "      <th>VZ</th>\n",
       "      <td>-0.812249</td>\n",
       "      <td>0.389176</td>\n",
       "      <td>-0.700476</td>\n",
       "      <td>-0.871847</td>\n",
       "      <td>-0.894191</td>\n",
       "      <td>-0.672576</td>\n",
       "      <td>-0.158321</td>\n",
       "      <td>-0.948814</td>\n",
       "      <td>-0.546572</td>\n",
       "      <td>-0.459018</td>\n",
       "      <td>...</td>\n",
       "      <td>-0.210324</td>\n",
       "      <td>-0.709278</td>\n",
       "      <td>-0.804497</td>\n",
       "      <td>0.350212</td>\n",
       "      <td>-0.788105</td>\n",
       "      <td>-0.546806</td>\n",
       "      <td>0.164903</td>\n",
       "      <td>1.000000</td>\n",
       "      <td>0.468644</td>\n",
       "      <td>-0.768132</td>\n",
       "    </tr>\n",
       "    <tr>\n",
       "      <th>WMT</th>\n",
       "      <td>-0.304643</td>\n",
       "      <td>-0.234919</td>\n",
       "      <td>-0.675472</td>\n",
       "      <td>-0.280687</td>\n",
       "      <td>-0.509458</td>\n",
       "      <td>-0.209277</td>\n",
       "      <td>-0.285823</td>\n",
       "      <td>-0.561797</td>\n",
       "      <td>-0.226202</td>\n",
       "      <td>-0.678146</td>\n",
       "      <td>...</td>\n",
       "      <td>0.209632</td>\n",
       "      <td>-0.446320</td>\n",
       "      <td>-0.053238</td>\n",
       "      <td>0.234888</td>\n",
       "      <td>-0.525217</td>\n",
       "      <td>0.027739</td>\n",
       "      <td>0.081564</td>\n",
       "      <td>0.468644</td>\n",
       "      <td>1.000000</td>\n",
       "      <td>-0.301598</td>\n",
       "    </tr>\n",
       "    <tr>\n",
       "      <th>XOM</th>\n",
       "      <td>0.861880</td>\n",
       "      <td>0.049293</td>\n",
       "      <td>0.410360</td>\n",
       "      <td>0.912203</td>\n",
       "      <td>0.736180</td>\n",
       "      <td>0.868003</td>\n",
       "      <td>-0.138051</td>\n",
       "      <td>0.823995</td>\n",
       "      <td>0.440168</td>\n",
       "      <td>0.187810</td>\n",
       "      <td>...</td>\n",
       "      <td>0.492237</td>\n",
       "      <td>0.551242</td>\n",
       "      <td>0.821291</td>\n",
       "      <td>-0.523376</td>\n",
       "      <td>0.804803</td>\n",
       "      <td>0.573788</td>\n",
       "      <td>-0.446268</td>\n",
       "      <td>-0.768132</td>\n",
       "      <td>-0.301598</td>\n",
       "      <td>1.000000</td>\n",
       "    </tr>\n",
       "  </tbody>\n",
       "</table>\n",
       "<p>79 rows × 79 columns</p>\n",
       "</div>"
      ],
      "text/plain": [
       "           SPY       AAL      AAPL       ADI      ADSK      AMGN      AMZN  \\\n",
       "SPY   1.000000 -0.150766  0.664561  0.943056  0.795816  0.871081  0.214384   \n",
       "AAL  -0.150766  1.000000 -0.165660 -0.216983 -0.275806 -0.047168 -0.184216   \n",
       "AAPL  0.664561 -0.165660  1.000000  0.543582  0.690485  0.406495  0.617957   \n",
       "ADI   0.943056 -0.216983  0.543582  1.000000  0.852531  0.852624 -0.026472   \n",
       "ADSK  0.795816 -0.275806  0.690485  0.852531  1.000000  0.560262  0.071047   \n",
       "...        ...       ...       ...       ...       ...       ...       ...   \n",
       "UNH   0.782713 -0.293242  0.367680  0.757330  0.575959  0.601864  0.007339   \n",
       "V    -0.138938 -0.144763  0.114850 -0.235251 -0.033349 -0.462216  0.279432   \n",
       "VZ   -0.812249  0.389176 -0.700476 -0.871847 -0.894191 -0.672576 -0.158321   \n",
       "WMT  -0.304643 -0.234919 -0.675472 -0.280687 -0.509458 -0.209277 -0.285823   \n",
       "XOM   0.861880  0.049293  0.410360  0.912203  0.736180  0.868003 -0.138051   \n",
       "\n",
       "          BIDU      BKNG      BMRN  ...       MRK       NKE       PTE  \\\n",
       "SPY   0.858366  0.593429  0.373156  ...  0.465277  0.672939  0.821549   \n",
       "AAL  -0.242341 -0.225712 -0.184748  ...  0.126493 -0.164352 -0.314749   \n",
       "AAPL  0.742434  0.442807  0.712365  ... -0.084208  0.664746  0.341116   \n",
       "ADI   0.884722  0.589331  0.274457  ...  0.506576  0.678808  0.905140   \n",
       "ADSK  0.898308  0.663857  0.579426  ...  0.215085  0.876508  0.731012   \n",
       "...        ...       ...       ...  ...       ...       ...       ...   \n",
       "UNH   0.529196  0.748448  0.065486  ...  0.679118  0.546653  0.755046   \n",
       "V    -0.186646  0.472733  0.137586  ... -0.011976  0.132765 -0.292578   \n",
       "VZ   -0.948814 -0.546572 -0.459018  ... -0.210324 -0.709278 -0.804497   \n",
       "WMT  -0.561797 -0.226202 -0.678146  ...  0.209632 -0.446320 -0.053238   \n",
       "XOM   0.823995  0.440168  0.187810  ...  0.492237  0.551242  0.821291   \n",
       "\n",
       "            PG       TRV       UNH         V        VZ       WMT       XOM  \n",
       "SPY  -0.439500  0.866207  0.782713 -0.138938 -0.812249 -0.304643  0.861880  \n",
       "AAL  -0.145620 -0.026496 -0.293242 -0.144763  0.389176 -0.234919  0.049293  \n",
       "AAPL -0.211028  0.711895  0.367680  0.114850 -0.700476 -0.675472  0.410360  \n",
       "ADI  -0.420993  0.808986  0.757330 -0.235251 -0.871847 -0.280687  0.912203  \n",
       "ADSK -0.117197  0.705191  0.575959 -0.033349 -0.894191 -0.509458  0.736180  \n",
       "...        ...       ...       ...       ...       ...       ...       ...  \n",
       "UNH  -0.100624  0.476912  1.000000  0.151297 -0.546806  0.027739  0.573788  \n",
       "V     0.657898 -0.371792  0.151297  1.000000  0.164903  0.081564 -0.446268  \n",
       "VZ    0.350212 -0.788105 -0.546806  0.164903  1.000000  0.468644 -0.768132  \n",
       "WMT   0.234888 -0.525217  0.027739  0.081564  0.468644  1.000000 -0.301598  \n",
       "XOM  -0.523376  0.804803  0.573788 -0.446268 -0.768132 -0.301598  1.000000  \n",
       "\n",
       "[79 rows x 79 columns]"
      ]
     },
     "execution_count": 9,
     "metadata": {},
     "output_type": "execute_result"
    }
   ],
   "source": [
    "corr_distance_matrix"
   ]
  },
  {
   "cell_type": "code",
   "execution_count": 10,
   "metadata": {
    "scrolled": true
   },
   "outputs": [
    {
     "data": {
      "image/png": "[encoded data removed]",
      "text/plain": [
       "<Figure size 2304x1296 with 1 Axes>"
      ]
     },
     "metadata": {
      "needs_background": "light"
     },
     "output_type": "display_data"
    }
   ],
   "source": [
    "import matplotlib.pyplot as plt\n",
    "from scipy.cluster.hierarchy import single, complete, average, dendrogram\n",
    "z = complete(corr_distance_matrix)\n",
    "\n",
    "fig = plt.figure(figsize = (32,18))\n",
    "dn = dendrogram(z)\n",
    "plt.show()"
   ]
  },
  {
   "cell_type": "markdown",
   "metadata": {},
   "source": [
    "As we can see there are two very dissimilar clusters in this dataset"
   ]
  },
  {
   "cell_type": "code",
   "execution_count": 14,
   "metadata": {},
   "outputs": [
    {
     "data": {
      "text/plain": [
       "array([[46.        , 62.        ,  0.31870763,  2.        ],\n",
       "       [ 3.        , 79.        ,  0.43255146,  3.        ],\n",
       "       [31.        , 52.        ,  0.46264108,  2.        ],\n",
       "       [66.        , 80.        ,  0.49870041,  4.        ]])"
      ]
     },
     "execution_count": 14,
     "metadata": {},
     "output_type": "execute_result"
    }
   ],
   "source": [
    "x = single(corr_distance_matrix)\n",
    "x[:4]"
   ]
  },
  {
   "cell_type": "code",
   "execution_count": null,
   "metadata": {},
   "outputs": [],
   "source": []
  },
  {
   "cell_type": "code",
   "execution_count": null,
   "metadata": {},
   "outputs": [],
   "source": []
  },
  {
   "cell_type": "code",
   "execution_count": null,
   "metadata": {},
   "outputs": [],
   "source": []
  },
  {
   "cell_type": "code",
   "execution_count": null,
   "metadata": {},
   "outputs": [],
   "source": []
  },
  {
   "cell_type": "code",
   "execution_count": null,
   "metadata": {},
   "outputs": [],
   "source": [
    "linkage_matrix = complete(corr_distance_matrix)\n",
    "linkage_matrix[:3]"
   ]
  },
  {
   "cell_type": "code",
   "execution_count": 32,
   "metadata": {},
   "outputs": [
    {
     "name": "stdout",
     "output_type": "stream",
     "text": [
      "[1 2]\n"
     ]
    }
   ],
   "source": [
    "from scipy.cluster.hierarchy import fcluster\n",
    "import numpy as np\n",
    "cluster_labels = fcluster(linkage_matrix, 2, criterion = 'maxclust')\n",
    "print(np.unique(cluster_labels))"
   ]
  },
  {
   "cell_type": "code",
   "execution_count": 33,
   "metadata": {},
   "outputs": [
    {
     "data": {
      "text/plain": [
       "array([2, 1, 2, 2, 2, 2, 2, 2, 2, 2, 2, 1, 1, 2, 2, 1, 2, 1, 2, 2, 2, 1,\n",
       "       2, 2, 2, 2, 2, 2, 2, 2, 2, 2, 2, 2, 2, 2, 2, 2, 2, 2, 2, 2, 2, 1,\n",
       "       1, 1, 2, 2, 2, 2, 1, 2, 2, 2, 1, 2, 2, 1, 2, 2, 2, 2, 2, 2, 2, 2,\n",
       "       2, 1, 2, 2, 2, 2, 1, 2, 2, 1, 1, 1, 2], dtype=int32)"
      ]
     },
     "execution_count": 33,
     "metadata": {},
     "output_type": "execute_result"
    }
   ],
   "source": [
    "cluster_labels"
   ]
  },
  {
   "cell_type": "code",
   "execution_count": 43,
   "metadata": {},
   "outputs": [
    {
     "data": {
      "text/plain": [
       "79"
      ]
     },
     "execution_count": 43,
     "metadata": {},
     "output_type": "execute_result"
    }
   ],
   "source": [
    "# hand select the appropriate cut-off on the dendogram\n",
    "cluster_labels2 = fcluster(linkage_matrix, 3, criterion = 'distance')\n",
    "len(cluster_labels2)"
   ]
  },
  {
   "cell_type": "markdown",
   "metadata": {},
   "source": [
    "# Cointegration, heatmap "
   ]
  },
  {
   "cell_type": "code",
   "execution_count": 44,
   "metadata": {},
   "outputs": [
    {
     "name": "stderr",
     "output_type": "stream",
     "text": [
      "C:\\Users\\nehes\\Anaconda3\\lib\\site-packages\\statsmodels\\tools\\_testing.py:19: FutureWarning: pandas.util.testing is deprecated. Use the functions in the public API at pandas.testing instead.\n",
      "  import pandas.util.testing as tm\n"
     ]
    }
   ],
   "source": [
    "import numpy as np\n",
    "import pandas as pd\n",
    "\n",
    "import statsmodels\n",
    "from statsmodels.tsa.stattools import coint\n",
    "import matplotlib.pyplot as plt"
   ]
  },
  {
   "cell_type": "code",
   "execution_count": 63,
   "metadata": {},
   "outputs": [],
   "source": [
    "def find_cointegrated_pairs(data):\n",
    "    data = data[:5]\n",
    "    n = data.shape[1]\n",
    "    score_matrix = np.zeros((n, n))\n",
    "    pvalue_matrix = np.ones((n, n))\n",
    "    keys = data.keys()\n",
    "    pairs = []\n",
    "    for i in range(n):\n",
    "        for j in range(i+1, n):\n",
    "            S1 = data[keys[i]]\n",
    "            S2 = data[keys[j]]\n",
    "            result = coint(S1, S2)\n",
    "            score = result[0]\n",
    "            pvalue = result[1]\n",
    "            score_matrix[i, j] = score\n",
    "            pvalue_matrix[i, j] = pvalue\n",
    "            if pvalue < 0.05:\n",
    "                pairs.append((keys[i], keys[j]))\n",
    "    return score_matrix, pvalue_matrix, pairs"
   ]
  },
  {
   "cell_type": "code",
   "execution_count": null,
   "metadata": {},
   "outputs": [],
   "source": []
  },
  {
   "cell_type": "code",
   "execution_count": 47,
   "metadata": {},
   "outputs": [],
   "source": [
    "trueStocks = stocks.iloc[::-1]"
   ]
  },
  {
   "cell_type": "code",
   "execution_count": 57,
   "metadata": {},
   "outputs": [],
   "source": [
    "trueStocks.fillna(method = 'ffill', inplace = True)\n",
    "trueStocks.dropna(inplace = True)"
   ]
  },
  {
   "cell_type": "code",
   "execution_count": 58,
   "metadata": {},
   "outputs": [
    {
     "data": {
      "text/plain": [
       "(14503, 79)"
      ]
     },
     "execution_count": 58,
     "metadata": {},
     "output_type": "execute_result"
    }
   ],
   "source": [
    "trueStocks.shape"
   ]
  },
  {
   "cell_type": "code",
   "execution_count": 60,
   "metadata": {},
   "outputs": [],
   "source": [
    "trueStocks.to_csv('79Stocks2Months.csv')"
   ]
  },
  {
   "cell_type": "code",
   "execution_count": 66,
   "metadata": {
    "scrolled": false
   },
   "outputs": [
    {
     "data": {
      "image/png": "[encoded data removed]",
      "text/plain": [
       "<Figure size 432x288 with 2 Axes>"
      ]
     },
     "metadata": {
      "needs_background": "light"
     },
     "output_type": "display_data"
    },
    {
     "name": "stdout",
     "output_type": "stream",
     "text": [
      "[('SPY', 'AAPL'), ('SPY', 'AMZN'), ('SPY', 'BKNG'), ('SPY', 'CERN'), ('SPY', 'CSCO'), ('SPY', 'CTXS'), ('SPY', 'FB'), ('SPY', 'HAS'), ('SPY', 'INTC'), ('SPY', 'LRCX'), ('SPY', 'MU'), ('SPY', 'NTES'), ('SPY', 'PYPL'), ('SPY', 'STX'), ('SPY', 'WBA'), ('SPY', 'WDC'), ('SPY', 'GME'), ('SPY', 'GS'), ('SPY', 'HD'), ('SPY', 'IBM'), ('SPY', 'JPM'), ('SPY', 'KO'), ('SPY', 'MCD'), ('SPY', 'NKE'), ('SPY', 'PG'), ('SPY', 'V'), ('SPY', 'XOM'), ('AAL', 'BMRN'), ('AAL', 'CSCO'), ('AAL', 'CSX'), ('AAL', 'CTAS'), ('AAL', 'CTXS'), ('AAL', 'EBAY'), ('AAL', 'FB'), ('AAL', 'INTU'), ('AAL', 'JBHT'), ('AAL', 'MCHP'), ('AAL', 'MNST'), ('AAL', 'ORLY'), ('AAL', 'SIRI'), ('AAL', 'STX'), ('AAL', 'TMUS'), ('AAL', 'WDC'), ('AAL', 'AXP'), ('AAL', 'BA'), ('AAL', 'DIS'), ('AAL', 'HD'), ('AAL', 'JNJ'), ('AAL', 'MCD'), ('AAL', 'MRK'), ('AAL', 'PTE'), ('AAL', 'WMT'), ('AAPL', 'ADSK'), ('AAPL', 'AMZN'), ('AAPL', 'CERN'), ('AAPL', 'EBAY'), ('AAPL', 'FB'), ('AAPL', 'FOX'), ('AAPL', 'INTC'), ('AAPL', 'MNST'), ('AAPL', 'MU'), ('AAPL', 'PCAR'), ('AAPL', 'PYPL'), ('AAPL', 'SBUX'), ('AAPL', 'SIRI'), ('AAPL', 'STX'), ('AAPL', 'TSLA'), ('AAPL', 'BABA'), ('AAPL', 'AXP'), ('AAPL', 'GS'), ('AAPL', 'KO'), ('AAPL', 'MRK'), ('AAPL', 'V'), ('AAPL', 'WMT'), ('ADI', 'AMZN'), ('ADI', 'BKNG'), ('ADI', 'BMRN'), ('ADI', 'CHTR'), ('ADI', 'DISH'), ('ADI', 'HAS'), ('ADI', 'HOLX'), ('ADI', 'JD'), ('ADI', 'LRCX'), ('ADI', 'MCHP'), ('ADI', 'NTES'), ('ADI', 'NVDA'), ('ADI', 'ORLY'), ('ADI', 'TMUS'), ('ADI', 'VRSK'), ('ADI', 'VRTX'), ('ADI', 'WBA'), ('ADI', 'BABA'), ('ADI', 'CVX'), ('ADI', 'DIS'), ('ADI', 'JPM'), ('ADI', 'UNH'), ('ADI', 'VZ'), ('ADSK', 'AMZN'), ('ADSK', 'BMRN'), ('ADSK', 'CERN'), ('ADSK', 'CHTR'), ('ADSK', 'CSCO'), ('ADSK', 'CTXS'), ('ADSK', 'DISH'), ('ADSK', 'EA'), ('ADSK', 'EXPE'), ('ADSK', 'FB'), ('ADSK', 'GOOGL'), ('ADSK', 'HAS'), ('ADSK', 'HOLX'), ('ADSK', 'INTC'), ('ADSK', 'JBHT'), ('ADSK', 'JD'), ('ADSK', 'LRCX'), ('ADSK', 'MCHP'), ('ADSK', 'MNST'), ('ADSK', 'NTES'), ('ADSK', 'NVDA'), ('ADSK', 'ORLY'), ('ADSK', 'PCAR'), ('ADSK', 'PYPL'), ('ADSK', 'QCOM'), ('ADSK', 'SBUX'), ('ADSK', 'SIRI'), ('ADSK', 'TMUS'), ('ADSK', 'TSLA'), ('ADSK', 'VRSK'), ('ADSK', 'VRTX'), ('ADSK', 'WBA'), ('ADSK', 'WDC'), ('ADSK', 'BABA'), ('ADSK', 'GME'), ('ADSK', 'AXP'), ('ADSK', 'CAT'), ('ADSK', 'CVX'), ('ADSK', 'DIS'), ('ADSK', 'JNJ'), ('ADSK', 'JPM'), ('ADSK', 'KO'), ('ADSK', 'MCD'), ('ADSK', 'NKE'), ('ADSK', 'PTE'), ('ADSK', 'PG'), ('ADSK', 'TRV'), ('ADSK', 'V'), ('ADSK', 'VZ'), ('ADSK', 'WMT'), ('ADSK', 'XOM'), ('AMGN', 'AMZN'), ('AMGN', 'BIDU'), ('AMGN', 'CERN'), ('AMGN', 'CHTR'), ('AMGN', 'EA'), ('AMGN', 'EXPE'), ('AMGN', 'GOOGL'), ('AMGN', 'HAS'), ('AMGN', 'NTES'), ('AMGN', 'NVDA'), ('AMGN', 'PYPL'), ('AMGN', 'TSLA'), ('AMGN', 'ULTA'), ('AMGN', 'VRSK'), ('AMGN', 'VRTX'), ('AMGN', 'WBA'), ('AMGN', 'GME'), ('AMGN', 'GE'), ('AMGN', 'GS'), ('AMGN', 'JPM'), ('AMGN', 'TRV'), ('AMGN', 'V'), ('AMZN', 'BKNG'), ('AMZN', 'CERN'), ('AMZN', 'CSCO'), ('AMZN', 'CTXS'), ('AMZN', 'EBAY'), ('AMZN', 'EXPE'), ('AMZN', 'FB'), ('AMZN', 'INTC'), ('AMZN', 'MU'), ('AMZN', 'NTES'), ('AMZN', 'PCAR'), ('AMZN', 'PYPL'), ('AMZN', 'SBUX'), ('AMZN', 'SIRI'), ('AMZN', 'STX'), ('AMZN', 'TSLA'), ('AMZN', 'VRSK'), ('AMZN', 'WDC'), ('AMZN', 'GME'), ('AMZN', 'AXP'), ('AMZN', 'CVX'), ('AMZN', 'GS'), ('AMZN', 'HD'), ('AMZN', 'IBM'), ('AMZN', 'JNJ'), ('AMZN', 'MCD'), ('AMZN', 'MRK'), ('AMZN', 'PTE'), ('AMZN', 'V'), ('BIDU', 'CERN'), ('BIDU', 'EA'), ('BIDU', 'EXPE'), ('BIDU', 'GOOGL'), ('BIDU', 'INTC'), ('BIDU', 'LRCX'), ('BIDU', 'MCHP'), ('BIDU', 'MU'), ('BIDU', 'NTES'), ('BIDU', 'ORLY'), ('BIDU', 'PCAR'), ('BIDU', 'PYPL'), ('BIDU', 'TMUS'), ('BIDU', 'TSLA'), ('BIDU', 'VRSK'), ('BIDU', 'WBA'), ('BIDU', 'WDC'), ('BIDU', 'GME'), ('BIDU', 'DIS'), ('BIDU', 'IBM'), ('BIDU', 'JNJ'), ('BIDU', 'KO'), ('BIDU', 'UNH'), ('BIDU', 'V'), ('BKNG', 'BMRN'), ('BKNG', 'CHTR'), ('BKNG', 'CTAS'), ('BKNG', 'DISH'), ('BKNG', 'EA'), ('BKNG', 'EBAY'), ('BKNG', 'EXPE'), ('BKNG', 'FOX'), ('BKNG', 'GOOGL'), ('BKNG', 'HAS'), ('BKNG', 'JD'), ('BKNG', 'LRCX'), ('BKNG', 'MCHP'), ('BKNG', 'MSFT'), ('BKNG', 'NVDA'), ('BKNG', 'PCAR'), ('BKNG', 'TXN'), ('BKNG', 'ULTA'), ('BKNG', 'WBA'), ('BKNG', 'WDC'), ('BKNG', 'BABA'), ('BKNG', 'GME'), ('BKNG', 'AXP'), ('BKNG', 'BA'), ('BKNG', 'CAT'), ('BKNG', 'CVX'), ('BKNG', 'GE'), ('BKNG', 'GS'), ('BKNG', 'IBM'), ('BKNG', 'JNJ'), ('BKNG', 'JPM'), ('BKNG', 'KO'), ('BKNG', 'MCD'), ('BKNG', 'PG'), ('BKNG', 'V'), ('BKNG', 'WMT'), ('BMRN', 'JBHT'), ('BMRN', 'ORLY'), ('BMRN', 'PCAR'), ('BMRN', 'STX'), ('BMRN', 'TMUS'), ('BMRN', 'TXN'), ('BMRN', 'VOD'), ('BMRN', 'WDC'), ('BMRN', 'GME'), ('BMRN', 'DIS'), ('BMRN', 'JNJ'), ('BMRN', 'PG'), ('CERN', 'CHTR'), ('CERN', 'COST'), ('CERN', 'EXPE'), ('CERN', 'HAS'), ('CERN', 'JD'), ('CERN', 'PCAR'), ('CERN', 'PYPL'), ('CERN', 'TXN'), ('CERN', 'WBA'), ('CERN', 'CAT'), ('CERN', 'GE'), ('CERN', 'GS'), ('CERN', 'PG'), ('CERN', 'TRV'), ('CHTR', 'CTAS'), ('CHTR', 'EXPE'), ('CHTR', 'HAS'), ('CHTR', 'INTC'), ('CHTR', 'LRCX'), ('CHTR', 'MCHP'), ('CHTR', 'MU'), ('CHTR', 'ORLY'), ('CHTR', 'PYPL'), ('CHTR', 'ULTA'), ('CHTR', 'VRSK'), ('CHTR', 'WBA'), ('CHTR', 'WDC'), ('CHTR', 'CVX'), ('CHTR', 'GS'), ('CHTR', 'V'), ('COST', 'DISH'), ('COST', 'EA'), ('COST', 'EBAY'), ('COST', 'EXPE'), ('COST', 'JD'), ('COST', 'MCHP'), ('COST', 'NTES'), ('COST', 'ORLY'), ('COST', 'QCOM'), ('COST', 'SBUX'), ('COST', 'STX'), ('COST', 'TMUS'), ('COST', 'VRSK'), ('COST', 'WBA'), ('COST', 'CAT'), ('COST', 'DIS'), ('COST', 'GE'), ('COST', 'JPM'), ('CSCO', 'FB'), ('CSCO', 'INTU'), ('CSCO', 'JBHT'), ('CSCO', 'MNST'), ('CSCO', 'SIRI'), ('CSCO', 'HD'), ('CSCO', 'PTE'), ('CSCO', 'VZ'), ('CSX', 'EXPE'), ('CSX', 'INTU'), ('CSX', 'PCAR'), ('CSX', 'TSLA'), ('CSX', 'TXN'), ('CSX', 'ULTA'), ('CSX', 'WDC'), ('CSX', 'DIS'), ('CSX', 'GE'), ('CSX', 'JNJ'), ('CSX', 'MCD'), ('CTAS', 'EXPE'), ('CTAS', 'LRCX'), ('CTAS', 'MCHP'), ('CTAS', 'ORLY'), ('CTAS', 'PCAR'), ('CTAS', 'TMUS'), ('CTAS', 'TXN'), ('CTAS', 'VOD'), ('CTAS', 'WDC'), ('CTAS', 'GME'), ('CTAS', 'DIS'), ('CTAS', 'GE'), ('CTAS', 'IBM'), ('CTAS', 'KO'), ('CTAS', 'UNH'), ('CTAS', 'V'), ('CTXS', 'EA'), ('CTXS', 'FB'), ('CTXS', 'FOX'), ('CTXS', 'INTU'), ('CTXS', 'MCHP'), ('CTXS', 'MSFT'), ('CTXS', 'ORLY'), ('CTXS', 'TMUS'), ('CTXS', 'VOD'), ('CTXS', 'DIS'), ('CTXS', 'MCD'), ('CTXS', 'PTE'), ('CTXS', 'VZ'), ('DISH', 'HAS'), ('DISH', 'JD'), ('DISH', 'NTES'), ('DISH', 'NVDA'), ('DISH', 'ORLY'), ('DISH', 'TMUS'), ('DISH', 'TSLA'), ('DISH', 'VRSK'), ('DISH', 'WBA'), ('DISH', 'BABA'), ('DISH', 'CVX'), ('DISH', 'DIS'), ('DISH', 'GE'), ('DISH', 'TRV'), ('EA', 'INTU'), ('EA', 'JBHT'), ('EA', 'JD'), ('EA', 'STX'), ('EA', 'VRTX'), ('EA', 'BA'), ('EA', 'HD'), ('EA', 'MRK'), ('EA', 'NKE'), ('EA', 'UNH'), ('EA', 'VZ'), ('EBAY', 'FB'), ('EBAY', 'MNST'), ('EBAY', 'QCOM'), ('EBAY', 'SIRI'), ('EBAY', 'VRTX'), ('EBAY', 'AXP'), ('EBAY', 'HD'), ('EBAY', 'IBM'), ('EBAY', 'JNJ'), ('EBAY', 'MCD'), ('EBAY', 'MRK'), ('EBAY', 'WMT'), ('EXPE', 'FOX'), ('EXPE', 'GOOGL'), ('EXPE', 'HAS'), ('EXPE', 'INTC'), ('EXPE', 'INTU'), ('EXPE', 'PYPL'), ('EXPE', 'STX'), ('EXPE', 'TXN'), ('EXPE', 'ULTA'), ('EXPE', 'WBA'), ('EXPE', 'BABA'), ('FB', 'FOX'), ('FB', 'HAS'), ('FB', 'INTC'), ('FB', 'INTU'), ('FB', 'LRCX'), ('FB', 'MU'), ('FB', 'NTES'), ('FB', 'PYPL'), ('FB', 'TSLA'), ('FB', 'VRSK'), ('FB', 'WBA'), ('FB', 'GME'), ('FB', 'CAT'), ('FB', 'CVX'), ('FB', 'GS'), ('FB', 'JPM'), ('FB', 'KO'), ('FB', 'MCD'), ('FB', 'NKE'), ('FB', 'PG'), ('FB', 'V'), ('FB', 'XOM'), ('FOX', 'HOLX'), ('FOX', 'INTU'), ('FOX', 'JBHT'), ('FOX', 'MNST'), ('FOX', 'NFLX'), ('FOX', 'SIRI'), ('FOX', 'STX'), ('FOX', 'AXP'), ('FOX', 'MCD'), ('FOX', 'PTE'), ('FOX', 'VZ'), ('FOX', 'WMT'), ('GOOGL', 'HAS'), ('GOOGL', 'INTC'), ('GOOGL', 'NVDA'), ('GOOGL', 'PYPL'), ('GOOGL', 'VRTX'), ('GOOGL', 'WBA'), ('GOOGL', 'BABA'), ('GOOGL', 'GS'), ('GOOGL', 'JPM'), ('HAS', 'INTC'), ('HAS', 'JBHT'), ('HAS', 'LRCX'), ('HAS', 'MU'), ('HAS', 'NTES'), ('HAS', 'NVDA'), ('HAS', 'PYPL'), ('HAS', 'SBUX'), ('HAS', 'STX'), ('HAS', 'TSLA'), ('HAS', 'VRSK'), ('HAS', 'WBA'), ('HAS', 'WDC'), ('HAS', 'GME'), ('HAS', 'CVX'), ('HAS', 'GE'), ('HAS', 'HD'), ('HAS', 'IBM'), ('HAS', 'JNJ'), ('HAS', 'JPM'), ('HAS', 'MCD'), ('HAS', 'TRV'), ('HOLX', 'INTC'), ('HOLX', 'JBHT'), ('HOLX', 'JD'), ('HOLX', 'LRCX'), ('HOLX', 'MCHP'), ('HOLX', 'MNST'), ('HOLX', 'MSFT'), ('HOLX', 'MU'), ('HOLX', 'NFLX'), ('HOLX', 'NTES'), ('HOLX', 'NVDA'), ('HOLX', 'ORLY'), ('HOLX', 'PCAR'), ('HOLX', 'PYPL'), ('HOLX', 'QCOM'), ('HOLX', 'SBUX'), ('HOLX', 'SIRI'), ('HOLX', 'TMUS'), ('HOLX', 'TSLA'), ('HOLX', 'TXN'), ('HOLX', 'ULTA'), ('HOLX', 'VRSK'), ('HOLX', 'WBA'), ('HOLX', 'WDC'), ('HOLX', 'GME'), ('HOLX', 'AXP'), ('HOLX', 'BA'), ('HOLX', 'CAT'), ('HOLX', 'CVX'), ('HOLX', 'DIS'), ('HOLX', 'GE'), ('HOLX', 'GS'), ('HOLX', 'HD'), ('HOLX', 'IBM'), ('HOLX', 'JNJ'), ('HOLX', 'JPM'), ('HOLX', 'KO'), ('HOLX', 'MCD'), ('HOLX', 'MRK'), ('HOLX', 'NKE'), ('HOLX', 'PTE'), ('HOLX', 'PG'), ('HOLX', 'TRV'), ('HOLX', 'V'), ('HOLX', 'VZ'), ('HOLX', 'WMT'), ('HOLX', 'XOM'), ('INTC', 'NFLX'), ('INTC', 'TXN'), ('INTC', 'ULTA'), ('INTC', 'WBA'), ('INTC', 'CAT'), ('INTC', 'GE'), ('INTC', 'GS'), ('INTC', 'JPM'), ('INTC', 'TRV'), ('INTC', 'V'), ('INTU', 'JBHT'), ('INTU', 'MNST'), ('INTU', 'ORLY'), ('INTU', 'PYPL'), ('INTU', 'SIRI'), ('INTU', 'TMUS'), ('INTU', 'WDC'), ('INTU', 'BABA'), ('INTU', 'AXP'), ('INTU', 'CAT'), ('INTU', 'DIS'), ('INTU', 'JNJ'), ('INTU', 'MCD'), ('INTU', 'NKE'), ('INTU', 'PTE'), ('INTU', 'VZ'), ('INTU', 'WMT'), ('JBHT', 'SIRI'), ('JBHT', 'AXP'), ('JBHT', 'IBM'), ('JBHT', 'JNJ'), ('JBHT', 'MCD'), ('JD', 'NFLX'), ('JD', 'NVDA'), ('JD', 'STX'), ('JD', 'WBA'), ('JD', 'JPM'), ('JD', 'TRV'), ('JD', 'VZ'), ('LRCX', 'MCHP'), ('LRCX', 'MU'), ('LRCX', 'NTES'), ('LRCX', 'STX'), ('LRCX', 'TSLA'), ('LRCX', 'TXN'), ('LRCX', 'VRSK'), ('LRCX', 'WDC'), ('LRCX', 'GME'), ('LRCX', 'CVX'), ('LRCX', 'IBM'), ('LRCX', 'JNJ'), ('LRCX', 'KO'), ('LRCX', 'MCD'), ('LRCX', 'MRK'), ('LRCX', 'PTE'), ('MCHP', 'STX'), ('MCHP', 'TMUS'), ('MCHP', 'TXN'), ('MCHP', 'VOD'), ('MCHP', 'DIS'), ('MCHP', 'KO'), ('MNST', 'MU'), ('MNST', 'NFLX'), ('MNST', 'NTES'), ('MNST', 'NVDA'), ('MNST', 'PCAR'), ('MNST', 'PYPL'), ('MNST', 'SIRI'), ('MNST', 'TSLA'), ('MNST', 'TXN'), ('MNST', 'ULTA'), ('MNST', 'VRSK'), ('MNST', 'VRTX'), ('MNST', 'WBA'), ('MNST', 'GME'), ('MNST', 'AXP'), ('MNST', 'BA'), ('MNST', 'CAT'), ('MNST', 'CVX'), ('MNST', 'GE'), ('MNST', 'GS'), ('MNST', 'HD'), ('MNST', 'JNJ'), ('MNST', 'JPM'), ('MNST', 'KO'), ('MNST', 'MRK'), ('MNST', 'NKE'), ('MNST', 'PG'), ('MNST', 'TRV'), ('MNST', 'V'), ('MNST', 'WMT'), ('MNST', 'XOM'), ('MSFT', 'NFLX'), ('MSFT', 'ORLY'), ('MSFT', 'STX'), ('MSFT', 'TMUS'), ('MSFT', 'VOD'), ('MSFT', 'WDC'), ('MSFT', 'GME'), ('MSFT', 'DIS'), ('MSFT', 'HD'), ('MSFT', 'JNJ'), ('MSFT', 'KO'), ('MSFT', 'MCD'), ('MSFT', 'MRK'), ('MSFT', 'PTE'), ('MSFT', 'VZ'), ('MU', 'PCAR'), ('MU', 'TXN'), ('MU', 'WDC'), ('MU', 'KO'), ('MU', 'V'), ('MU', 'XOM'), ('NFLX', 'NTES'), ('NFLX', 'NVDA'), ('NFLX', 'PYPL'), ('NFLX', 'TSLA'), ('NFLX', 'ULTA'), ('NFLX', 'VRSK'), ('NFLX', 'WBA'), ('NFLX', 'BABA'), ('NFLX', 'GME'), ('NFLX', 'GS'), ('NFLX', 'JPM'), ('NFLX', 'TRV'), ('NTES', 'NVDA'), ('NTES', 'ORLY'), ('NTES', 'PCAR'), ('NTES', 'PYPL'), ('NTES', 'TMUS'), ('NTES', 'TXN'), ('NTES', 'ULTA'), ('NTES', 'VOD'), ('NTES', 'WBA'), ('NTES', 'WDC'), ('NTES', 'GME'), ('NTES', 'CAT'), ('NTES', 'GE'), ('NTES', 'GS'), ('NTES', 'IBM'), ('NTES', 'JNJ'), ('NTES', 'JPM'), ('NTES', 'KO'), ('NTES', 'MCD'), ('NTES', 'PG'), ('NTES', 'TRV'), ('NTES', 'V'), ('NVDA', 'ORLY'), ('NVDA', 'PYPL'), ('NVDA', 'QCOM'), ('NVDA', 'STX'), ('NVDA', 'TMUS'), ('NVDA', 'TSLA'), ('NVDA', 'VOD'), ('NVDA', 'VRSK'), ('NVDA', 'GME'), ('NVDA', 'CVX'), ('NVDA', 'DIS'), ('NVDA', 'IBM'), ('NVDA', 'JPM'), ('ORLY', 'STX'), ('ORLY', 'TMUS'), ('ORLY', 'VOD'), ('ORLY', 'CAT'), ('ORLY', 'IBM'), ('PCAR', 'PYPL'), ('PCAR', 'SBUX'), ('PCAR', 'STX'), ('PCAR', 'TXN'), ('PCAR', 'ULTA'), ('PCAR', 'WBA'), ('PCAR', 'BABA'), ('PCAR', 'GS'), ('PCAR', 'PG'), ('PCAR', 'TRV'), ('PCAR', 'V'), ('PYPL', 'TXN'), ('PYPL', 'ULTA'), ('PYPL', 'WBA'), ('PYPL', 'WDC'), ('PYPL', 'BA'), ('PYPL', 'GE'), ('PYPL', 'GS'), ('PYPL', 'JPM'), ('PYPL', 'PG'), ('PYPL', 'TRV'), ('PYPL', 'V'), ('QCOM', 'SIRI'), ('QCOM', 'TMUS'), ('QCOM', 'TSLA'), ('QCOM', 'TXN'), ('QCOM', 'ULTA'), ('QCOM', 'VOD'), ('QCOM', 'WDC'), ('QCOM', 'GME'), ('QCOM', 'AXP'), ('QCOM', 'HD'), ('QCOM', 'IBM'), ('QCOM', 'KO'), ('QCOM', 'MRK'), ('QCOM', 'PTE'), ('QCOM', 'PG'), ('QCOM', 'UNH'), ('QCOM', 'V'), ('SBUX', 'TMUS'), ('SBUX', 'TSLA'), ('SBUX', 'TXN'), ('SBUX', 'ULTA'), ('SBUX', 'VOD'), ('SBUX', 'VRSK'), ('SBUX', 'WDC'), ('SBUX', 'BABA'), ('SBUX', 'GME'), ('SBUX', 'AXP'), ('SBUX', 'CVX'), ('SBUX', 'GE'), ('SBUX', 'GS'), ('SBUX', 'HD'), ('SBUX', 'IBM'), ('SBUX', 'JNJ'), ('SBUX', 'JPM'), ('SBUX', 'KO'), ('SBUX', 'MRK'), ('SBUX', 'PG'), ('SBUX', 'TRV'), ('SBUX', 'V'), ('SBUX', 'WMT'), ('SBUX', 'XOM'), ('SIRI', 'TXN'), ('SIRI', 'ULTA'), ('SIRI', 'VRSK'), ('SIRI', 'VRTX'), ('SIRI', 'WBA'), ('SIRI', 'AXP'), ('SIRI', 'BA'), ('SIRI', 'CAT'), ('SIRI', 'CVX'), ('SIRI', 'GS'), ('SIRI', 'HD'), ('SIRI', 'JNJ'), ('SIRI', 'JPM'), ('SIRI', 'KO'), ('SIRI', 'MCD'), ('SIRI', 'MRK'), ('SIRI', 'NKE'), ('SIRI', 'PG'), ('SIRI', 'V'), ('STX', 'TXN'), ('STX', 'VOD'), ('STX', 'WBA'), ('STX', 'WDC'), ('STX', 'BABA'), ('STX', 'AXP'), ('STX', 'BA'), ('STX', 'DIS'), ('STX', 'HD'), ('STX', 'IBM'), ('STX', 'JNJ'), ('STX', 'MCD'), ('STX', 'MRK'), ('STX', 'PTE'), ('STX', 'WMT'), ('TMUS', 'TXN'), ('TMUS', 'VOD'), ('TMUS', 'GME'), ('TMUS', 'DIS'), ('TSLA', 'TXN'), ('TSLA', 'VOD'), ('TSLA', 'WDC'), ('TSLA', 'GME'), ('TSLA', 'DIS'), ('TSLA', 'JNJ'), ('TSLA', 'KO'), ('TXN', 'ULTA'), ('TXN', 'GS'), ('TXN', 'KO'), ('TXN', 'TRV'), ('TXN', 'V'), ('ULTA', 'WBA'), ('ULTA', 'GS'), ('VOD', 'VRSK'), ('VOD', 'WBA'), ('VOD', 'WDC'), ('VOD', 'GME'), ('VOD', 'BA'), ('VOD', 'CAT'), ('VOD', 'DIS'), ('VOD', 'IBM'), ('VOD', 'JNJ'), ('VOD', 'MCD'), ('VOD', 'PTE'), ('VRSK', 'WBA'), ('VRSK', 'WDC'), ('VRSK', 'GME'), ('VRSK', 'CAT'), ('VRSK', 'CVX'), ('VRSK', 'GE'), ('VRSK', 'GS'), ('VRSK', 'IBM'), ('VRSK', 'JNJ'), ('VRSK', 'JPM'), ('VRSK', 'KO'), ('VRSK', 'MCD'), ('VRSK', 'PG'), ('VRSK', 'TRV'), ('VRSK', 'V'), ('VRSK', 'VZ'), ('VRTX', 'WBA'), ('VRTX', 'WDC'), ('VRTX', 'GME'), ('VRTX', 'GS'), ('VRTX', 'KO'), ('VRTX', 'NKE'), ('VRTX', 'PG'), ('VRTX', 'V'), ('VRTX', 'VZ'), ('WBA', 'DIS'), ('WBA', 'GE'), ('WBA', 'GS'), ('WBA', 'PG'), ('WBA', 'TRV'), ('WDC', 'CAT'), ('WDC', 'CVX'), ('WDC', 'IBM'), ('WDC', 'JNJ'), ('WDC', 'JPM'), ('BABA', 'GE'), ('BABA', 'WMT'), ('GME', 'IBM'), ('AXP', 'CVX'), ('AXP', 'GE'), ('AXP', 'GS'), ('AXP', 'JPM'), ('AXP', 'KO'), ('AXP', 'PG'), ('AXP', 'TRV'), ('AXP', 'UNH'), ('AXP', 'V'), ('CAT', 'DIS'), ('CAT', 'GS'), ('CAT', 'PG'), ('CVX', 'DIS'), ('CVX', 'GE'), ('CVX', 'GS'), ('CVX', 'HD'), ('CVX', 'IBM'), ('CVX', 'JNJ'), ('CVX', 'JPM'), ('CVX', 'KO'), ('CVX', 'MCD'), ('CVX', 'MRK'), ('CVX', 'PTE'), ('CVX', 'PG'), ('CVX', 'TRV'), ('CVX', 'V'), ('CVX', 'VZ'), ('CVX', 'WMT'), ('DIS', 'IBM'), ('DIS', 'JNJ'), ('DIS', 'KO'), ('DIS', 'MCD'), ('GE', 'JPM'), ('GE', 'TRV'), ('GS', 'HD'), ('GS', 'IBM'), ('GS', 'JNJ'), ('GS', 'MCD'), ('GS', 'MRK'), ('GS', 'PTE'), ('GS', 'V'), ('HD', 'MCD'), ('HD', 'PTE'), ('JPM', 'MCD'), ('JPM', 'TRV'), ('KO', 'V'), ('KO', 'WMT'), ('KO', 'XOM'), ('MCD', 'MRK'), ('MRK', 'PTE'), ('MRK', 'VZ'), ('NKE', 'PG'), ('NKE', 'TRV'), ('NKE', 'VZ'), ('NKE', 'WMT'), ('PTE', 'VZ'), ('PG', 'V'), ('PG', 'WMT'), ('PG', 'XOM'), ('TRV', 'V'), ('TRV', 'XOM'), ('UNH', 'V'), ('UNH', 'VZ'), ('UNH', 'WMT'), ('UNH', 'XOM'), ('VZ', 'WMT'), ('WMT', 'XOM')]\n"
     ]
    }
   ],
   "source": [
    "instrumentIds = heldenStocks\n",
    "scores, pvalues, pairs = find_cointegrated_pairs(trueStocks)\n",
    "import seaborn\n",
    "m = [0,0.2,0.4,0.6,0.8,1]\n",
    "seaborn.heatmap(pvalues, xticklabels=instrumentIds, \n",
    "                yticklabels=instrumentIds, cmap='RdYlGn_r' \n",
    "                , mask = (pvalues >= 0.98)\n",
    "                )\n",
    "plt.show()\n",
    "print(pairs)"
   ]
  },
  {
   "cell_type": "code",
   "execution_count": null,
   "metadata": {},
   "outputs": [],
   "source": []
  }
 ],
 "metadata": {
  "kernelspec": {
   "display_name": "Python 3",
   "language": "python",
   "name": "python3"
  },
  "language_info": {
   "codemirror_mode": {
    "name": "ipython",
    "version": 3
   },
   "file_extension": ".py",
   "mimetype": "text/x-python",
   "name": "python",
   "nbconvert_exporter": "python",
   "pygments_lexer": "ipython3",
   "version": "3.7.9"
  },
  "toc": {
   "base_numbering": 1,
   "nav_menu": {},
   "number_sections": true,
   "sideBar": true,
   "skip_h1_title": false,
   "title_cell": "Table of Contents",
   "title_sidebar": "Contents",
   "toc_cell": true,
   "toc_position": {},
   "toc_section_display": true,
   "toc_window_display": false
  }
 },
 "nbformat": 4,
 "nbformat_minor": 4
}
