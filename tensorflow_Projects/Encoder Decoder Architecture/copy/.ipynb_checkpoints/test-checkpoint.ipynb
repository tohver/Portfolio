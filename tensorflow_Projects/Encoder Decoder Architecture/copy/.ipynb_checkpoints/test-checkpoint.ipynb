{
 "cells": [
  {
   "cell_type": "markdown",
   "metadata": {
    "toc": true
   },
   "source": [
    "<h1>Table of Contents<span class=\"tocSkip\"></span></h1>\n",
    "<div class=\"toc\"><ul class=\"toc-item\"><li><span><a href=\"#Neural-translation-model-(encoder-decoder-architecture)\" data-toc-modified-id=\"Neural-translation-model-(encoder-decoder-architecture)-1\"><span class=\"toc-item-num\">1&nbsp;&nbsp;</span>Neural translation model (encoder decoder architecture)</a></span></li></ul></div>"
   ]
  },
  {
   "cell_type": "markdown",
   "metadata": {
    "id": "vsX0L1sG1iZj"
   },
   "source": [
    "# Neural translation model (encoder decoder architecture)\n"
   ]
  },
  {
   "cell_type": "code",
   "execution_count": 8,
   "metadata": {
    "executionInfo": {
     "elapsed": 3945,
     "status": "ok",
     "timestamp": 1617644992668,
     "user": {
      "displayName": "Jan Majetko",
      "photoUrl": "",
      "userId": "04711380461920205499"
     },
     "user_tz": -120
    },
    "id": "2VyTvxPN1iZn"
   },
   "outputs": [
    {
     "ename": "IndentationError",
     "evalue": "unexpected indent (<ipython-input-8-10552b9c2731>, line 139)",
     "output_type": "error",
     "traceback": [
      "\u001b[1;36m  File \u001b[1;32m\"<ipython-input-8-10552b9c2731>\"\u001b[1;36m, line \u001b[1;32m139\u001b[0m\n\u001b[1;33m    (tf.not_equal(\u001b[0m\n\u001b[1;37m    ^\u001b[0m\n\u001b[1;31mIndentationError\u001b[0m\u001b[1;31m:\u001b[0m unexpected indent\n"
     ]
    }
   ],
   "source": [
    "from pathlib import Path\n",
    "import tensorflow as tf\n",
    "import tensorflow_hub as hub\n",
    "import unicodedata\n",
    "import re\n",
    "import numpy as np\n",
    "from PIL import Image\n",
    "import matplotlib.pyplot as plt\n",
    "from sklearn.model_selection import train_test_split\n",
    "from tensorflow.keras.layers import concatenate, Layer, Input, LSTM, Embedding, Dense\n",
    "from tensorflow.keras.models import Model\n",
    "from tensorflow.keras.preprocessing.text import Tokenizer\n",
    "from tensorflow.keras.preprocessing.sequence import pad_sequences\n",
    "from tensorflow.keras.utils import plot_model\n",
    "\n",
    "# data preprocessing\n",
    "def unicode2ascii(s):\n",
    "    return ''.join(c for c in unicodedata.normalize('NFD', s) if unicodedata.category(c) != 'Mn')\n",
    "\n",
    "def preprocessSentence(sentence):\n",
    "    sentence = sentence.lower().strip()\n",
    "    sentence = re.sub(r\"ü\", 'ue', sentence)\n",
    "    sentence = re.sub(r\"ä\", 'ae', sentence)\n",
    "    sentence = re.sub(r\"ö\", 'oe', sentence)\n",
    "    sentence = re.sub(r'ß', 'ss', sentence)\n",
    "    \n",
    "    sentence = unicode2ascii(sentence)\n",
    "    sentence = re.sub(r\"([?.!,])\", r\" \\1 \", sentence)\n",
    "    sentence = re.sub(r\"[^a-z?.!,']+\", \" \", sentence)\n",
    "    sentence = re.sub(r'[\" \"]+', \" \", sentence)\n",
    "    \n",
    "    return sentence.strip()\n",
    "\n",
    "def createTokenizer(list_of_strings):\n",
    "    tokenizer = Tokenizer(num_words = None, \n",
    "                          filters = '', \n",
    "                          lower = False, \n",
    "                          char_level = False)\n",
    "    tokenizer.fit_on_texts(list_of_strings)\n",
    "    return tokenizer\n",
    "\n",
    "def padSequences(sequences):\n",
    "    paddedSequences = tf.keras.preprocessing.sequence.pad_sequences(\n",
    "    sequences,\n",
    "    maxlen = None, # len of the seq in output\n",
    "    padding = 'post')\n",
    "    return paddedSequences\n",
    "\n",
    "def mapSentenceSplit(dataset):\n",
    "    def splitSentences(sentence, paddedTokens):\n",
    "        sentence = tf.strings.split(sentence)\n",
    "        return sentence, paddedTokens\n",
    "    return dataset.map(splitSentences)\n",
    "\n",
    "\n",
    "def mapSequenceEmbedding(dataset):\n",
    "    def embedSequence(sequence, target):\n",
    "        sequence = embeddingLayer(sequence)\n",
    "        return sequence, target\n",
    "    return dataset.map(embedSequence)\n",
    "\n",
    "\n",
    "def filterLongSequences(dataset):\n",
    "    def findLongSequences(sequence, target):\n",
    "        return sequence.shape[1]>13\n",
    "    return dataset.filter(findLongSequences)\n",
    "\n",
    "def padSentences(dataset, maxlen = 13):\n",
    "    def padSentence(sequence, target):\n",
    "        shape = tf.shape(sequence)[0]\n",
    "        paddings = [tf.math.maximum([maxlen-shape,0], tf.constant([0,0])), tf.constant([0,0])]\n",
    "        paddedSequence = tf.pad(sequence, paddings, \"CONSTANT\", constant_values=0)\n",
    "        return paddedSequence, target\n",
    "    return dataset.map(padSentence)\n",
    "    \n",
    "# custom layer\n",
    "class EndTokenLayer(Layer):\n",
    "    \n",
    "    def __init__(self, embedding_dim=128, **kwargs):\n",
    "        super(EndTokenLayer, self).__init__(**kwargs)\n",
    "        self.endTokenEmbedding = tf.Variable(initial_value=tf.random.uniform(shape=(embedding_dim,)), trainable=True)\n",
    "    \n",
    "    def call(self, inputs):\n",
    "        endToken = tf.tile(tf.reshape(self.endTokenEmbedding, shape=(1, 1, self.endTokenEmbedding.shape[0])), [tf.shape(inputs)[0],1,1])\n",
    "        return tf.keras.layers.concatenate([inputs, endToken], axis=1)\n",
    "\n",
    "\n",
    "# encoder network\n",
    "def buildRNNEncoder():\n",
    "    inputs = Input(shape = (13,128))\n",
    "    h = EndTokenLayer()(inputs)\n",
    "    h = tf.keras.layers.Masking(mask_value = 0)(h)\n",
    "    h, hiddenState, cellState = LSTM(512, return_sequences = True, return_state = True)(h)\n",
    "    \n",
    "    model = Model(inputs = inputs, outputs = [hiddenState, cellState])\n",
    "    model.compile(optimizer = 'adam', loss = 'mse', metrics = ['accuracy'])\n",
    "    return model\n",
    "\n",
    "\n",
    "# decoder network\n",
    "class Decoder(Model):\n",
    "    def __init__(self, germanVocabSize, embedding_dim = 128, **kwargs):\n",
    "        super(Decoder, self).__init__()\n",
    "        self.embedding1 = Embedding(input_dim = germanVocabSize+1, output_dim = embedding_dim, mask_zero = True)\n",
    "        self.lstm1 = LSTM(512, return_sequences = True, return_state = True)\n",
    "        self.dense1 = Dense(units = germanVocabSize+1)\n",
    "\n",
    "    def call(self, inputs, hiddenState = None, cellState = None):\n",
    "        h = self.embedding1(inputs)\n",
    "        if tf.is_tensor(hiddenState) and tf.is_tensor(cellState):\n",
    "              h, hiddenState, cellState = self.lstm1(h, initial_state = [hiddenState, cellState]) \n",
    "        else:\n",
    "            h, hiddenState, cellState = self.lstm1(h)        \n",
    "        output = self.dense1(h)\n",
    "\n",
    "        return output, hiddenState, cellState\n",
    "\n",
    "# custom early stopping callback\n",
    "class EarlyStoppingAtMinLoss(keras.callbacks.Callback):\n",
    "    def __init__(self, patience=0):\n",
    "        super(EarlyStoppingAtMinLoss, self).__init__()\n",
    "        self.patience = patience\n",
    "        # best_weights to store the weights at which the minimum loss occurs.\n",
    "        self.best_weights = None\n",
    "\n",
    "    def on_train_begin(self, logs=None):\n",
    "        # The number of epoch it has waited when loss is no longer minimum.\n",
    "        self.wait = 0 \n",
    "        self.model.set_weights(self.best_weights)\n",
    "\n",
    "    def on_train_end(self, logs=None):\n",
    "        if self.stopped_epoch > 0:\n",
    "            print(\"Epoch %05d: early stopping\" % (self.stopped_epoch + 1))\n",
    "\n",
    "\n",
    "# training loop\n",
    "def getGermanTensors(sentences):\n",
    "    germanInput = tf.where (\n",
    "        tf.not_equal(\n",
    "            tf.cast(sentences, tf.float32), tf.constant(2., dtype = tf.float32)), \n",
    "            x = tf.cast(sentences, tf.float32),\n",
    "            y = tf.constant(0,tf.float32)\n",
    "        \n",
    "    )    \n",
    "    germanOutput = tf.concat([\n",
    "        tf.cast(sentences[:, 1:], dtype=tf.float32),\n",
    "        tf.zeros((16, 1), dtype=tf.float32)\n",
    "    ], axis = 1)\n",
    "\n",
    "    return germanInput, germanOutput\n",
    "\n",
    "@tf.function\n",
    "def propagate(englishInput, germanInput, germanOutput):\n",
    "    with tf.GradientTape() as tape:\n",
    "        hiddenState, cellState = encoderModel(englishInput)\n",
    "        h,hiddenState,cellState = decoderModel(germanInput, hiddenState, cellState)\n",
    "        lossValue = lossObj(y_true = germanOutput, y_pred = h)\n",
    "        gradient = tape.gradient(lossValue, encoderModel.trainable_variables + decoderModel.trainable_variables)\n",
    "    return lossValue, gradient\n",
    "\n",
    "def plotLoss(trainLoss, validLoss):\n",
    "\n",
    "\tplt.figure(figsize = (15,5))\n",
    "\tplt.plot(trainLossResults)\n",
    "\tplt.plot(validLossResults)\n",
    "\tplt.title('Loss vs. epochs')\n",
    "\tplt.legend(['Training', 'Validation'])\n",
    "\tplt.show()\n",
    "\n",
    "\n",
    "def preprocessTestSentence(sentence):\n",
    "    sentence = preprocessSentence(sentence)\n",
    "    sentence = tf.strings.split(sentence)\n",
    "    sentence = embeddingLayer(sentence)\n",
    "    \n",
    "    def padInputSentence(sequence, maxlen = 13):\n",
    "        shape = tf.shape(sequence)[0]\n",
    "        paddings = [tf.math.maximum([maxlen-shape,0], tf.constant([0,0])), tf.constant([0,0])]\n",
    "        paddedSequence = tf.pad(sequence, paddings, \"CONSTANT\", constant_values=0)\n",
    "        return paddedSequence\n",
    "    sentence = padInputSentence(sentence)\n",
    "    return sentence\n",
    "\n",
    "def translateSentence(sentence, sentenceMaxLength = 13):\n",
    "    decoderInput = tf.expand_dims([tokenizer.word_index['<start>']], 0)\n",
    "    endToken = tokenizer.word_index['<end>']\n",
    "  \n",
    "    sentence = preprocessTestSentence(sentence)\n",
    "    encoderInput = tf.expand_dims(sentence, 0)\n",
    "    hiddenState, cellState = encoderModel(encoderInput)\n",
    "  \n",
    "    result = []\n",
    "  \n",
    "    for i in range(sentenceMaxLength-1):\n",
    "        predictions, hiddenState, cellState = decoderModel(decoderInput, hiddenState, cellState)\n",
    "        predictedId = tf.argmax(predictions[0][0]).numpy()\n",
    "        if tokenizer.index_word[predictedId] == '<end>':\n",
    "            break\n",
    "        result.append(predictedId)\n",
    "        decoderInput = tf.expand_dims([predictedId], 0)\n",
    "  \n",
    "    translatedSentence = ' '.join([tokenizer.index_word[idx] for idx in result])\n",
    "    translatedSentence = re.sub('([\\w]) ([.!?])', r'\\1\\2', translatedSentence)\n",
    "    return translatedSentence\n",
    "\n",
    "\n",
    "def trainModel(epochs, trainDataset, validationDataset):\n",
    "\n",
    "    trainLossResults=[]\n",
    "    validLossResults=[]\n",
    "\n",
    "\n",
    "    for epoch in range(epochs):\n",
    "        epochLossAvg = tf.keras.metrics.Mean()\n",
    "        validLossAvg = tf.keras.metrics.Mean()\n",
    "    \n",
    "        for en, de in trainDataset:\n",
    "            germanInputs, germanOutputs = getGermanTensors(de)\n",
    "            lossValue, gradients = propagate(en, germanInputs, germanOutputs)\n",
    "            optimizer.apply_gradients(zip(gradients, encoderModel.trainable_variables + decoderModel.trainable_variables))\n",
    "            epochLossAvg(lossValue)\n",
    "        trainLossResults.append(epochLossAvg.result())\n",
    "\n",
    "        for en, de in validationDataset:\n",
    "            germanInputs, germanOutputs = getGermanTensors(de)\n",
    "            lossValue, gradients = propagate(en, germanInputs, germanOutputs)\n",
    "            validLossAvg(lossValue)\n",
    "        validLossResults.append(validLossAvg.result())\n",
    "    \n",
    "\n",
    "        print(f'Epoch {epoch}: train_loss: {epochLossAvg.result():.6f}, val_loss: {validLossAvg.result():.6f}')\n",
    "    return trainLossResults, validLossResults\n",
    "\n",
    "def prepareTargetLanguageDataset(germanSentences):\n",
    "    tokenizer = createTokenizer(germanSentences)\n",
    "    tokenizedGermanSentences = tokenizer.texts_to_sequences(germanSentences)\n",
    "    paddedGermanSequences = padSequences(tokenizedGermanSentences) \n",
    "    return padSequences(tokenizedGermanSentences) \n"
   ]
  },
  {
   "cell_type": "code",
   "execution_count": 3,
   "metadata": {
    "executionInfo": {
     "elapsed": 8748,
     "status": "ok",
     "timestamp": 1617648019326,
     "user": {
      "displayName": "Jan Majetko",
      "photoUrl": "",
      "userId": "04711380461920205499"
     },
     "user_tz": -120
    },
    "id": "kRtRgYmvbDBN"
   },
   "outputs": [],
   "source": [
    "path = Path('drive/MyDrive/Colab Notebooks/encoderDecoder') \n",
    "\n",
    "numberOfExamples = 100000\n",
    "dataExamples = []\n",
    "with open(path/'deu.txt', 'r', encoding='utf8') as f:\n",
    "    for line in f.readlines():\n",
    "        if len(dataExamples) < numberOfExamples:\n",
    "            dataExamples.append(line)\n",
    "        else:\n",
    "            break\n",
    "germanSentences = []\n",
    "englishSentences = []\n",
    "\n",
    "for sentencePair in dataExamples:\n",
    "    english, german, *_ = sentencePair.split('\\t')\n",
    "    english = preprocessSentence(english)\n",
    "    german = \"<start> \" + preprocessSentence(german) + \" <end>\"\n",
    "    germanSentences.append(german)\n",
    "    englishSentences.append(english)\n",
    "\n"
   ]
  },
  {
   "cell_type": "code",
   "execution_count": null,
   "metadata": {
    "colab": {
     "base_uri": "https://localhost:8080/",
     "height": 1000
    },
    "executionInfo": {
     "elapsed": 2876191,
     "status": "ok",
     "timestamp": 1616700139931,
     "user": {
      "displayName": "Jan Majetko",
      "photoUrl": "",
      "userId": "04711380461920205499"
     },
     "user_tz": -60
    },
    "id": "YdzCBPp6bCzF",
    "outputId": "00948b2c-dfc9-42bd-da13-2a3179e0814a"
   },
   "outputs": [
    {
     "name": "stdout",
     "output_type": "stream",
     "text": [
      "\n",
      "Encoder Summary:\n",
      "Model: \"model\"\n",
      "_________________________________________________________________\n",
      "Layer (type)                 Output Shape              Param #   \n",
      "=================================================================\n",
      "input_1 (InputLayer)         [(None, 13, 128)]         0         \n",
      "_________________________________________________________________\n",
      "end_token_layer_1 (EndTokenL (None, 14, 128)           128       \n",
      "_________________________________________________________________\n",
      "masking (Masking)            (None, 14, 128)           0         \n",
      "_________________________________________________________________\n",
      "lstm (LSTM)                  [(None, 14, 512), (None,  1312768   \n",
      "=================================================================\n",
      "Total params: 1,312,896\n",
      "Trainable params: 1,312,896\n",
      "Non-trainable params: 0\n",
      "_________________________________________________________________\n",
      "\n",
      "Decoder Summary:\n",
      "Model: \"decoder\"\n",
      "_________________________________________________________________\n",
      "Layer (type)                 Output Shape              Param #   \n",
      "=================================================================\n",
      "embedding (Embedding)        multiple                  1522816   \n",
      "_________________________________________________________________\n",
      "lstm_1 (LSTM)                multiple                  1312768   \n",
      "_________________________________________________________________\n",
      "dense (Dense)                multiple                  6103161   \n",
      "=================================================================\n",
      "Total params: 8,938,745\n",
      "Trainable params: 8,938,745\n",
      "Non-trainable params: 0\n",
      "_________________________________________________________________\n",
      "Epoch 0: train_loss: 5.896101, val_loss: 4.051311\n",
      "Epoch 1: train_loss: 2.471289, val_loss: 1.316478\n",
      "Epoch 2: train_loss: 0.770433, val_loss: 0.693819\n",
      "Epoch 3: train_loss: 0.413115, val_loss: 0.585634\n",
      "Epoch 4: train_loss: 0.282443, val_loss: 0.555935\n",
      "Epoch 5: train_loss: 0.209046, val_loss: 0.550398\n",
      "Epoch 6: train_loss: 0.161942, val_loss: 0.556292\n",
      "Epoch 7: train_loss: 0.130017, val_loss: 0.565000\n"
     ]
    },
    {
     "data": {
      "image/png": "[encoded data removed]",
      "text/plain": [
       "<Figure size 1080x360 with 1 Axes>"
      ]
     },
     "metadata": {
      "needs_background": "light",
      "tags": []
     },
     "output_type": "display_data"
    },
    {
     "name": "stdout",
     "output_type": "stream",
     "text": [
      "there was no one home.\n",
      "es gab keinen notfall.\n",
      "\n",
      "i hate raccoons.\n",
      "ich hasse eifersuechtige.\n",
      "\n",
      "did you get a massage?\n",
      "haben sie schon einen massage verpassen lassen?\n",
      "\n",
      "they're great.\n",
      "sie sind grossartig.\n",
      "\n",
      "it's p. m.\n",
      "es ist 'ne arge uhr.\n",
      "\n"
     ]
    }
   ],
   "source": [
    "\n",
    "tokenizer = createTokenizer(germanSentences)\n",
    "tokenizedGermanSentences = tokenizer.texts_to_sequences(germanSentences)\n",
    "\n",
    "paddedGermanSequences = padSequences(tokenizedGermanSentences) \n",
    "paddedGermanSequences = padSequences(tokenizedGermanSentences) \n",
    "\n",
    "embeddingLayer = hub.KerasLayer(\"https://tfhub.dev/google/tf2-preview/nnlm-en-dim128/1\", output_shape=[128], input_shape=[], dtype=tf.string)\n",
    "englishTrain, englishTest, germanTrain,  germanTest = train_test_split(englishSentences, paddedGermanSequences, test_size = .2)\n",
    "\n",
    "\n",
    "\n",
    "\n",
    "trainDataset = padSentences(\n",
    "    filterLongSequences(\n",
    "        mapSequenceEmbedding(\n",
    "            mapSentenceSplit(\n",
    "                tf.data.Dataset.from_tensor_slices((englishTrain, germanTrain)))))).batch(batch_size = 16)\n",
    "\n",
    "validationDataset = padSentences(\n",
    "    filterLongSequences(\n",
    "        mapSequenceEmbedding(\n",
    "            mapSentenceSplit(tf.data.Dataset.from_tensor_slices((englishTest, germanTest)))))).batch(batch_size = 16)\n",
    "\n",
    "addEndToken = EndTokenLayer()\n",
    "\n",
    "encoderModel = buildRNNEncoder()\n",
    "\n",
    "germanVocabSize = len(tokenizer.word_index)\n",
    "input_dim = 128\n",
    "\n",
    "for features, labels in trainDataset.take(1):\n",
    "    englishBatch = features\n",
    "    germanBatch = labels\n",
    "\n",
    "hiddenState, cellState = encoderModel(englishBatch)\n",
    "\n",
    "decoderModel = Decoder(germanVocabSize)\n",
    "output, decoder_hiddenState, encoder_cellState = decoderModel(germanBatch, hiddenState = hiddenState, cellState = cellState)\n",
    "\n",
    "lossObj = tf.keras.losses.SparseCategoricalCrossentropy(from_logits=True)\n",
    "optimizer = tf.keras.optimizers.Adam(learning_rate=0.001)\n",
    "stopEarly = Callback_EarlyStopping(gen_loss_seq, min_delta=0.1, patience=20)\n",
    "\n",
    "print('\\nEncoder Summary:')\n",
    "encoderModel.summary()\n",
    "print('\\nDecoder Summary:')\n",
    "decoderModel.summary()\n",
    "\n",
    "trainLossResults, validLossResults = trainModel(8, trainDataset, validationDataset)\n",
    "\n",
    "plotLoss(trainLossResults, validLossResults)\n",
    "\n",
    "\n",
    "idxs = np.random.randint(0, len(englishSentences), 5)\n",
    "for idx in idxs:\n",
    "    sourceSentence = englishSentences[idx]\n",
    "    sourceSentence = re.sub('([\\w]) ([.!?])', r'\\1\\2', sourceSentence)\n",
    "    targetSentence = translateSentence(sourceSentence)\n",
    "    targetSentence = re.sub('([\\w]) ([.!?])', r'\\1\\2', targetSentence)\n",
    "    print(f'{sourceSentence}\\n{targetSentence}\\n')\n",
    "\n"
   ]
  },
  {
   "cell_type": "code",
   "execution_count": null,
   "metadata": {
    "colab": {
     "base_uri": "https://localhost:8080/"
    },
    "executionInfo": {
     "elapsed": 2876391,
     "status": "ok",
     "timestamp": 1616700140140,
     "user": {
      "displayName": "Jan Majetko",
      "photoUrl": "",
      "userId": "04711380461920205499"
     },
     "user_tz": -60
    },
    "id": "Xp6nO7e4D2vv",
    "outputId": "7090b0b3-b95a-463b-9424-f40d845e43da"
   },
   "outputs": [
    {
     "name": "stdout",
     "output_type": "stream",
     "text": [
      "you're stalling.\n",
      "du wirst keinen aendern.\n",
      "\n",
      "it's my treat.\n",
      "es ist meine schuld.\n",
      "\n",
      "it just doesn't matter.\n",
      "es macht nichts zu.\n",
      "\n",
      "i have a cold.\n",
      "ich habe einen schnupfen.\n",
      "\n",
      "he's not in.\n",
      "er ist nicht zuhause.\n",
      "\n"
     ]
    }
   ],
   "source": [
    "# plotLoss(trainLossResults, validLossResults)\n",
    "\n",
    "\n",
    "idxs = np.random.randint(0, len(englishSentences), 5)\n",
    "for idx in idxs:\n",
    "    sourceSentence = englishSentences[idx]\n",
    "    sourceSentence = re.sub('([\\w]) ([.!?])', r'\\1\\2', sourceSentence)\n",
    "    targetSentence = translateSentence(sourceSentence)\n",
    "    targetSentence = re.sub('([\\w]) ([.!?])', r'\\1\\2', targetSentence)\n",
    "    print(f'{sourceSentence}\\n{targetSentence}\\n')\n"
   ]
  },
  {
   "cell_type": "code",
   "execution_count": null,
   "metadata": {
    "colab": {
     "base_uri": "https://localhost:8080/",
     "height": 474
    },
    "executionInfo": {
     "elapsed": 2876999,
     "status": "ok",
     "timestamp": 1616700140754,
     "user": {
      "displayName": "Jan Majetko",
      "photoUrl": "",
      "userId": "04711380461920205499"
     },
     "user_tz": -60
    },
    "id": "N4J9OiWjoYDb",
    "outputId": "11d338d9-53e6-4a3f-9a93-e98e3a91ac7d"
   },
   "outputs": [
    {
     "name": "stdout",
     "output_type": "stream",
     "text": [
      "\n",
      "\n",
      "                                    encoder                                     \n"
     ]
    },
    {
     "data": {
      "image/png": "[encoded data removed]",
      "text/plain": [
       "<IPython.core.display.Image object>"
      ]
     },
     "execution_count": 6,
     "metadata": {
      "tags": []
     },
     "output_type": "execute_result"
    }
   ],
   "source": [
    "title = 'encoder'\n",
    "print(f'\\n\\n{title:^80}')\n",
    "plot_model(encoderModel, show_shapes = True)\n"
   ]
  },
  {
   "cell_type": "code",
   "execution_count": null,
   "metadata": {
    "colab": {
     "base_uri": "https://localhost:8080/",
     "height": 35
    },
    "executionInfo": {
     "elapsed": 2876993,
     "status": "ok",
     "timestamp": 1616700140755,
     "user": {
      "displayName": "Jan Majetko",
      "photoUrl": "",
      "userId": "04711380461920205499"
     },
     "user_tz": -60
    },
    "id": "WkD96bY6FFqq",
    "outputId": "bc6e2d48-7b38-4f69-dc55-8b110a3e7a39"
   },
   "outputs": [
    {
     "data": {
      "application/vnd.google.colaboratory.intrinsic+json": {
       "type": "string"
      },
      "text/plain": [
       "'ich kann diesen wagen nicht ziehen.'"
      ]
     },
     "execution_count": 7,
     "metadata": {
      "tags": []
     },
     "output_type": "execute_result"
    }
   ],
   "source": [
    "translateSentence(\"I can't drive this car.\")"
   ]
  }
 ],
 "metadata": {
  "accelerator": "GPU",
  "colab": {
   "collapsed_sections": [],
   "name": "Translation Encoder Decoder Architecture.ipynb",
   "provenance": [
    {
     "file_id": "10wT87Zdlajdkk8bGS7_EXYyk3KkNBqWU",
     "timestamp": 1615999296589
    }
   ],
   "toc_visible": true
  },
  "kernelspec": {
   "display_name": "Python 3",
   "language": "python",
   "name": "python3"
  },
  "language_info": {
   "codemirror_mode": {
    "name": "ipython",
    "version": 3
   },
   "file_extension": ".py",
   "mimetype": "text/x-python",
   "name": "python",
   "nbconvert_exporter": "python",
   "pygments_lexer": "ipython3",
   "version": "3.7.9"
  },
  "toc": {
   "base_numbering": 1,
   "nav_menu": {},
   "number_sections": true,
   "sideBar": true,
   "skip_h1_title": false,
   "title_cell": "Table of Contents",
   "title_sidebar": "Contents",
   "toc_cell": true,
   "toc_position": {},
   "toc_section_display": true,
   "toc_window_display": false
  }
 },
 "nbformat": 4,
 "nbformat_minor": 1
}
